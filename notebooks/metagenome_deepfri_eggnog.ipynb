{
 "cells": [
  {
   "cell_type": "markdown",
   "metadata": {},
   "source": [
    "# Diabimmune analysis\n",
    "\n",
    "The notebook does pre-processing of Diabimmune DeepFRI, EggNOG annotations and visualization\n",
    "\n",
    "Inputs:\n",
    "\n",
    "- PATHS: list of paths to the datasets\n",
    "\n",
    "Plots:\n",
    "\n",
    "- DeepFRI-eggNOG-area plots\n",
    "- Venn diagram for different sets of genes\n",
    "- Annotation coverage plots"
   ]
  },
  {
   "cell_type": "markdown",
   "metadata": {},
   "source": [
    "### Imports"
   ]
  },
  {
   "cell_type": "code",
   "execution_count": 1,
   "metadata": {},
   "outputs": [],
   "source": [
    "import numpy as np\n",
    "import pandas as pd\n",
    "import os\n",
    "import glob\n",
    "import matplotlib.pyplot as plt\n",
    "from matplotlib import rc\n",
    "import seaborn as sns\n",
    "import re\n",
    "import obonet\n",
    "import networkx as nx\n",
    "import gc\n",
    "gc.enable()\n",
    "from matplotlib_venn import venn2\n",
    "from matplotlib_venn import venn2_unweighted\n",
    "from matplotlib_venn import venn3, venn3_circles\n",
    "from matplotlib_venn import venn3_unweighted\n",
    "pd.options.mode.chained_assignment = None"
   ]
  },
  {
   "cell_type": "markdown",
   "metadata": {},
   "source": [
    "#### Data paths"
   ]
  },
  {
   "cell_type": "code",
   "execution_count": 2,
   "metadata": {},
   "outputs": [],
   "source": [
    "DEEPFRI_PATH = \"/storage/mmaranga/\"\n",
    "DEEPFRI_FILE = DEEPFRI_PATH+\"merged_deepfri_output_260521.tsv\"\n",
    "KMA_PATH = \"/storage/mmaranga/diabimmune-infant_metagenomes/kma\"\n",
    "GO_PATH = \"/home/MCB/mmaranga/\"\n",
    "GO_TREE = GO_PATH+\"go-basic.obo.1\"\n",
    "GO_INFORMATIVE_PATH = \"/home/MCB/mmaranga/\"\n",
    "GO_INFORMATIVE_FILE = GO_INFORMATIVE_PATH+\"GO_informative.txt\"\n",
    "MAPPING_TABLE_PATH = \"/storage/mmaranga/\"\n",
    "MAPPING_TABLE = MAPPING_TABLE_PATH+\"gene_mapping.tsv\""
   ]
  },
  {
   "cell_type": "markdown",
   "metadata": {},
   "source": [
    "#### Data preparation\n",
    "#### Load and pre process data"
   ]
  },
  {
   "cell_type": "markdown",
   "metadata": {},
   "source": [
    "#### Loading all normalized KMA relative abundance files for all samples"
   ]
  },
  {
   "cell_type": "code",
   "execution_count": 3,
   "metadata": {},
   "outputs": [],
   "source": [
    "def load_kma_file(path):\n",
    "    \"\"\"\n",
    "    Reads KMA output \n",
    "    Parameters\n",
    "    ----------\n",
    "    input_file : tsv\n",
    "        tsv file kma output\n",
    "    Returns\n",
    "    -------\n",
    "    Pandas dataframe\n",
    "    \"\"\"\n",
    "    all_files = glob.glob(KMA_PATH + \"/*.txt\")\n",
    "    kma_cpm = []\n",
    "    for filename in all_files:\n",
    "        kma_df = pd.read_csv(filename, sep=\"\\t\" )\n",
    "        kma_df[\"Sample\"] = os.path.basename(filename).replace(\".geneCPM.txt\", \"\")\n",
    "        kma_cpm.append(kma_df)\n",
    "    kma_cpm_df = pd.concat(kma_cpm, axis=0, ignore_index=True)\n",
    "    # rename Gene_ID column\n",
    "    kma_cpm_df.rename(columns={'Gene ID':'Gene_ID'}, inplace=True)\n",
    "    return kma_cpm_df"
   ]
  },
  {
   "cell_type": "code",
   "execution_count": 4,
   "metadata": {},
   "outputs": [],
   "source": [
    "kma_df = load_kma_file(KMA_PATH)"
   ]
  },
  {
   "cell_type": "markdown",
   "metadata": {},
   "source": [
    "#### load gene mapper table"
   ]
  },
  {
   "cell_type": "code",
   "execution_count": 5,
   "metadata": {},
   "outputs": [],
   "source": [
    "# loads mapper table\n",
    "mapped_genes = pd.read_csv(MAPPING_TABLE , sep=\"\\t\", usecols = [\"Cluster ID\", \"Gene ID\", \"GOs\", \"eggNOG free text desc.\"], low_memory=False)\n"
   ]
  },
  {
   "cell_type": "markdown",
   "metadata": {},
   "source": [
    "#### Load deepfri annotation file and  pre-process the data"
   ]
  },
  {
   "cell_type": "code",
   "execution_count": 3,
   "metadata": {},
   "outputs": [],
   "source": [
    "# load deepfri file\n",
    "def deepfri_annotation_file(deepfri_file):\n",
    "    \"\"\"\n",
    "    Reads deepfri function annotation file\n",
    "    \"\"\"\n",
    "    deepfri_df = pd.read_csv(deepfri_file , sep=\",\", header=None, names=['id', 'goterm', 'model', 'score', 'name'])\n",
    "    deepfri_df = deepfri_df.astype({'score': 'float32'})\n",
    "    return deepfri_df"
   ]
  },
  {
   "cell_type": "code",
   "execution_count": 4,
   "metadata": {},
   "outputs": [],
   "source": [
    "# create deepfri function dataframe and select cnn molecular functions with threshold of 0.2\n",
    "deepfri_df = deepfri_annotation_file(DEEPFRI_FILE)\n",
    "cnn_mf = deepfri_df.loc[(deepfri_df['model'] == 'cnn_mf') & (deepfri_df['score'] >= 0.2)]"
   ]
  },
  {
   "cell_type": "markdown",
   "metadata": {},
   "source": [
    "#### Load informative GO terms sets"
   ]
  },
  {
   "cell_type": "code",
   "execution_count": 6,
   "metadata": {},
   "outputs": [],
   "source": [
    "# informative Gene ontology sets\n",
    "def GO_informative_file(GO_file):\n",
    "    \"\"\"\n",
    "    Reads 614 informative sets of GO terms\n",
    "    A comprehensive representation of GO term sets that have more specific ancestors in the GO hierarchy\n",
    "    \"\"\"\n",
    "    ontology_df = pd.read_csv(GO_file, sep='\\t', header=None)\n",
    "    # preprocess informative GO dataframe\n",
    "    ontology_df = ontology_df[0].str.split(\"|\", n = 4, expand = True).rename(columns={0:'Goterm',1:'ont',2:'Score',3:'fxn_Name'})\n",
    "    return ontology_df"
   ]
  },
  {
   "cell_type": "code",
   "execution_count": 7,
   "metadata": {},
   "outputs": [],
   "source": [
    "GO_informative_df = GO_informative_file(GO_INFORMATIVE_FILE)"
   ]
  },
  {
   "cell_type": "markdown",
   "metadata": {},
   "source": [
    "#### Load EggNOG predictions from the mapper table\n",
    "#### Perform Gene ontology propagation"
   ]
  },
  {
   "cell_type": "code",
   "execution_count": 12,
   "metadata": {},
   "outputs": [],
   "source": [
    "# select gene ID, GO column and drop NANs \n",
    "genes_GO_df = mapped_genes[[\"Gene ID\", \"GOs\"]].dropna()\n"
   ]
  },
  {
   "cell_type": "markdown",
   "metadata": {},
   "source": [
    "#### Propagation of GO terms\n",
    "#### Uses new GO obo tree \n",
    "#### The GO obo tree is obtained from http://geneontology.org/docs/download-ontology/#go_obo_and_owl"
   ]
  },
  {
   "cell_type": "code",
   "execution_count": 13,
   "metadata": {},
   "outputs": [],
   "source": [
    "# load the GO tree\n",
    "with open(GO_TREE  , 'r') as go_graph_fh:\n",
    "    go_graph = obonet.read_obo(go_graph_fh)"
   ]
  },
  {
   "cell_type": "code",
   "execution_count": 14,
   "metadata": {},
   "outputs": [],
   "source": [
    "# perform propagation of GO terms\n",
    "def propagate_go(goterms: list):\n",
    "    all_goterms = set()\n",
    "    for goterm in list(goterms):\n",
    "#         print('GO:%s' % goterm)\n",
    "        # dealing with obsolete GO terms\n",
    "        try:\n",
    "            parents = nx.descendants(go_graph, goterm)\n",
    "#             print(parents)\n",
    "            all_goterms = all_goterms.union(parents)\n",
    "#             print('try all GOs:%s' % all_goterms)\n",
    "        except:\n",
    "#             print(\"I am in an exception\")\n",
    "            all_goterms = all_goterms.union(set([goterm]))       \n",
    "#             print('except all GOs:%s' % all_goterms)\n",
    "    # adding original GOs to `all_goterms`\n",
    "    all_goterms = all_goterms.union(set(goterms))\n",
    "    # pruning root terms\n",
    "    all_goterms = all_goterms.difference(root_terms)\n",
    "#     print('final all GOs:%s' % all_goterms)\n",
    "    # return `all_goterms` as a comma-separated string\n",
    "    ','.join(sorted(all_goterms))\n",
    "    return sorted(all_goterms)"
   ]
  },
  {
   "cell_type": "code",
   "execution_count": 15,
   "metadata": {},
   "outputs": [],
   "source": [
    "# propagate GO terms\n",
    "\n",
    "root_terms = set(['GO:0008150', 'GO:0003674', 'GO:0005575'])\n",
    "\n",
    "# update the gene GO list\n",
    "genes_GO_df['GOs_propagated'] = genes_GO_df['GOs'].apply(lambda x: propagate_go(x.split(','))).apply(lambda x: ','.join(map(str, x)))\n"
   ]
  },
  {
   "cell_type": "markdown",
   "metadata": {},
   "source": [
    "#### Comparing original GO and propagated GO"
   ]
  },
  {
   "cell_type": "code",
   "execution_count": 17,
   "metadata": {},
   "outputs": [],
   "source": [
    "orig = []\n",
    "prop = []\n",
    "for i, row in genes_GO_df.iterrows():\n",
    "    orig.append(len(row['GOs'].split(','))) \n",
    "    prop.append(len(row['GOs_propagated'].split(',')))"
   ]
  },
  {
   "cell_type": "code",
   "execution_count": 20,
   "metadata": {},
   "outputs": [
    {
     "data": {
      "image/png": "[encoded data removed]",
      "text/plain": [
       "<Figure size 432x288 with 1 Axes>"
      ]
     },
     "metadata": {
      "needs_background": "light"
     },
     "output_type": "display_data"
    }
   ],
   "source": [
    "# scatter plot for original and propagated GOs\n",
    "plt.scatter(orig,prop)\n",
    "plt.xlabel(\"original\")\n",
    "plt.ylabel(\"propagated\")\n",
    "plt.savefig(\"original_vs_propagated_GOs\")"
   ]
  },
  {
   "cell_type": "markdown",
   "metadata": {},
   "source": [
    "### Comparisons between EggNOG and DeepFRI predictions"
   ]
  },
  {
   "cell_type": "markdown",
   "metadata": {},
   "source": [
    "#### Visualization\n",
    "#### Proportion of genes annnotated with eggNOG"
   ]
  },
  {
   "cell_type": "code",
   "execution_count": 17,
   "metadata": {},
   "outputs": [],
   "source": [
    "# transform the dataframe\n",
    "GO_propagated_df = genes_GO_df.set_index('Gene ID')\\\n",
    "          .GOs_propagated.str.split(',', expand=True)\\\n",
    "          .stack()\\\n",
    "          .reset_index('Gene ID')\\\n",
    "          .rename(columns={0:'GOs_propagated'})\\\n",
    "          .reset_index(drop=True)"
   ]
  },
  {
   "cell_type": "code",
   "execution_count": 18,
   "metadata": {},
   "outputs": [],
   "source": [
    "# Filter out generic GO terms\n",
    "# map Propagated GO to informative GO df\n",
    "GO_propagated_informative = pd.merge(GO_propagated_df, GO_informative_df, \n",
    "        left_on='GOs_propagated', right_on='Goterm',\n",
    "        how='inner')"
   ]
  },
  {
   "cell_type": "code",
   "execution_count": 32,
   "metadata": {},
   "outputs": [],
   "source": [
    "# select MF functions\n",
    "GO_propagated_informative_mf = GO_propagated_informative[GO_propagated_informative['ont'] == 'MF']\n",
    "\n",
    "# add sample column\n",
    "GO_propagated_informative_mf['Sample'] = GO_propagated_informative_mf['Gene ID'].apply(lambda x: x.split(\"_k\")[0])"
   ]
  },
  {
   "cell_type": "markdown",
   "metadata": {},
   "source": [
    "###  Aggregate gene quantifications into quantifications of gene functions"
   ]
  },
  {
   "cell_type": "code",
   "execution_count": null,
   "metadata": {},
   "outputs": [],
   "source": [
    "# map to KMA dataframe\n",
    "GO_propagated_kma_df = pd.merge(GO_propagated_informative_mf, kma_df, \n",
    "        left_on='Gene ID', right_on='Gene_ID',\n",
    "        how='outer', suffixes=(\"_eggNOG\", \"_kma\"))"
   ]
  },
  {
   "cell_type": "markdown",
   "metadata": {},
   "source": [
    "### Normalize the relative abundances\n",
    "#### Data preparation"
   ]
  },
  {
   "cell_type": "code",
   "execution_count": 24,
   "metadata": {},
   "outputs": [],
   "source": [
    "def prepare_eggNOG_data(data):\n",
    "    data.loc[data['Gene ID'].isna(), 'CPM'] = 0 # replace CPM with zero where Gene ID is NAN\n",
    "    data['CPM'] = data['CPM'].fillna(0)  # replace NaN with 0\n",
    "    return data"
   ]
  },
  {
   "cell_type": "code",
   "execution_count": 25,
   "metadata": {},
   "outputs": [],
   "source": [
    "# load data \n",
    "GO_propagated_kma_df = prepare_eggNOG_data(GO_propagated_kma_df)"
   ]
  },
  {
   "cell_type": "code",
   "execution_count": 26,
   "metadata": {},
   "outputs": [],
   "source": [
    "# Normalization\n",
    "GO_propagated_grouped_samples = GO_propagated_kma_df.groupby('Sample_kma').sum()['CPM']/1000000\n",
    "GO_propagated_grouped_samples.sort_values( inplace=True)"
   ]
  },
  {
   "cell_type": "code",
   "execution_count": 28,
   "metadata": {},
   "outputs": [],
   "source": [
    "def stacked_bar_plt(grouped_eggNOG_data):\n",
    "    bottom = 0 # bars shall be gradually incremental \n",
    "    # Annotated\n",
    "    plt.bar(range(len(grouped_eggNOG_data)), grouped_eggNOG_data, bottom=bottom, width=1, color='steelblue')\n",
    "    # Unannotated\n",
    "    bottom  += grouped_eggNOG_data\n",
    "    plt.bar(range(len(grouped_eggNOG_data)), 1 - grouped_eggNOG_data, bottom=bottom, width=1, color='skyblue')\n",
    "    plt.xlabel(\"Samples\")\n",
    "    plt.ylabel(\"Relative abundance\")\n",
    "    plt.text(600,0.1,'annotated',horizontalalignment='right')\n",
    "    plt.text(600,0.8,'unannotated',horizontalalignment='right')"
   ]
  },
  {
   "cell_type": "markdown",
   "metadata": {},
   "source": [
    "#### EggNOG area bar Plot"
   ]
  },
  {
   "cell_type": "code",
   "execution_count": 29,
   "metadata": {},
   "outputs": [
    {
     "data": {
      "image/png": "[encoded data removed]",
      "text/plain": [
       "<Figure size 432x288 with 1 Axes>"
      ]
     },
     "metadata": {
      "needs_background": "light"
     },
     "output_type": "display_data"
    }
   ],
   "source": [
    "stacked_bar_plt(GO_propagated_grouped_samples)"
   ]
  },
  {
   "cell_type": "markdown",
   "metadata": {},
   "source": [
    "### Area plot of proportion of genes annotated by deepFRI"
   ]
  },
  {
   "cell_type": "markdown",
   "metadata": {},
   "source": [
    "#### Filter GO terms only to include informative sets"
   ]
  },
  {
   "cell_type": "code",
   "execution_count": 52,
   "metadata": {},
   "outputs": [],
   "source": [
    "deepfri_informative_cnn_mf = pd.merge(cnn_mf, GO_informative_df, \n",
    "        left_on='goterm', right_on='Goterm',\n",
    "        how='inner')"
   ]
  },
  {
   "cell_type": "code",
   "execution_count": null,
   "metadata": {},
   "outputs": [],
   "source": [
    "# map GO_informative_cnn_mf to KMA relative abundance df\n",
    "deepfri_GO_cpm = pd.merge(deepfri_informative_cnn_mf.drop(columns='name'), kma_df, \n",
    "        left_on='id', right_on='Gene_ID',\n",
    "        how='outer' , suffixes=(\"_cnn\", \"_kma\")).drop(columns='Gene_ID')"
   ]
  },
  {
   "cell_type": "markdown",
   "metadata": {},
   "source": [
    "### Normalization"
   ]
  },
  {
   "cell_type": "code",
   "execution_count": null,
   "metadata": {},
   "outputs": [],
   "source": [
    "def prepare_data(data):\n",
    "    deepfri_GO_cpm.loc[deepfri_GO_cpm['id'].isna(), 'CPM'] = 0  # replace CPMs with zero where gene id has NaN\n",
    "    deepfri_GO_cpm['CPM'] = deepfri_GO_cpm['CPM'].fillna(0)  # replace NANs in CPM column with zero\n",
    "    return data"
   ]
  },
  {
   "cell_type": "code",
   "execution_count": null,
   "metadata": {},
   "outputs": [],
   "source": [
    "# process deepfri_GO_cpm\n",
    "deepfri_GO_df = prepare_data(deepfri_GO_cpm)"
   ]
  },
  {
   "cell_type": "code",
   "execution_count": null,
   "metadata": {},
   "outputs": [],
   "source": [
    "# normalize CPMs\n",
    "GO_grouped_samples = deepfri_GO_df.groupby('Sample_kma').sum()['CPM']/1000000 # group by samples and divide CPMs by a million\n",
    "GO_grouped_samples.sort_values( inplace=True)"
   ]
  },
  {
   "cell_type": "code",
   "execution_count": null,
   "metadata": {},
   "outputs": [],
   "source": [
    "def bar_plt(grouped_data):\n",
    "    bottom = 0\n",
    "    # Annotated\n",
    "    plt.bar(range(len(grouped_data)),grouped_data, bottom=bottom, width=1)\n",
    "    # Unannotated\n",
    "    bottom  += grouped_data\n",
    "    plt.bar(range(len(grouped_data)), 1 - grouped_data, bottom=bottom, width=1,color='skyblue')\n",
    "    plt.xlabel(\"Samples\")\n",
    "    plt.ylabel(\"Relative abundance\")\n",
    "    #plt.yscale('log')\n",
    "    #plt.ylim([0.9,1])\n",
    "    plt.text(600,0.1,'annotated',horizontalalignment='right')\n",
    "    plt.text(600,0.9,'unannotated',horizontalalignment='right')\n",
    "    "
   ]
  },
  {
   "cell_type": "code",
   "execution_count": null,
   "metadata": {},
   "outputs": [],
   "source": [
    "bar_plt(GO_grouped_samples)"
   ]
  },
  {
   "cell_type": "markdown",
   "metadata": {},
   "source": [
    "### Compare gene sets annotated by DeepFRI and EggNOG"
   ]
  },
  {
   "cell_type": "code",
   "execution_count": 24,
   "metadata": {},
   "outputs": [],
   "source": [
    "# EggNOG_mf go terms obtained from eggnogdb.embl.de/download/eggnog_4.5/all_OG_annotations.tsv.gz\n",
    "eggnog_mf_go = pd.read_csv('eggnog_mf_go', sep='\\t')\n",
    "eggnog_mf_go = eggnog_mf_go.drop_duplicates('goterm')"
   ]
  },
  {
   "cell_type": "code",
   "execution_count": 34,
   "metadata": {},
   "outputs": [],
   "source": [
    "# Select only MF GO terms\n",
    "eggnog_mf_GO_propagated_df = pd.merge(GO_propagated_df, eggnog_mf_go,\n",
    "        left_on='GOs_propagated', right_on='goterm', how='inner')"
   ]
  },
  {
   "cell_type": "code",
   "execution_count": 53,
   "metadata": {},
   "outputs": [],
   "source": [
    "# convert to a list\n",
    "deepfri_genes= cnn_mf.drop_duplicates('id')\n",
    "deepfri_genes = deepfri_genes['id'].tolist()\n",
    "\n",
    "# EggNOG\n",
    "eggnog_genes = eggnog_mf_GO_propagated_df.drop_duplicates('Gene ID')\n",
    "eggnog_genes = eggnog_genes['Gene ID'].tolist()\n"
   ]
  },
  {
   "cell_type": "code",
   "execution_count": 40,
   "metadata": {},
   "outputs": [],
   "source": [
    "# genes unique to one method\n",
    "items_only_in_cnn_mf_unique = set(deepfri_genes).difference(set(eggnog_genes))\n",
    "items_only_in_eggNOG = set(eggnog_genes).difference(set(deepfri_genes))\n",
    "\n",
    "# intersection\n",
    "deep_egg_intersect = set(deepfri_genes).intersection(set(eggnog_genes))"
   ]
  },
  {
   "cell_type": "markdown",
   "metadata": {},
   "source": [
    "#### Venn diagrams"
   ]
  },
  {
   "cell_type": "code",
   "execution_count": 110,
   "metadata": {},
   "outputs": [
    {
     "data": {
      "image/png": "[encoded data removed]",
      "text/plain": [
       "<Figure size 432x288 with 1 Axes>"
      ]
     },
     "metadata": {},
     "output_type": "display_data"
    }
   ],
   "source": [
    "plt.rcParams.update({'font.size': 11})\n",
    "b = venn2_unweighted(subsets = (len(items_only_in_cnn_mf_unique), len(items_only_in_eggNOG), len(deep_egg_intersect)),\n",
    "          set_labels=('DeepFRI', 'EggNOG Gene Ontology'))\n",
    "b.get_label_by_id('10').set_text('1,676,537')\n",
    "b.get_label_by_id('11').set_text('219,003')\n",
    "b.get_label_by_id('01').set_text('631')\n",
    "plt.savefig('deepfri_eggnog_mf_venn_April2022.png',dpi=300)\n"
   ]
  },
  {
   "cell_type": "markdown",
   "metadata": {},
   "source": [
    "### Subset of genes annotated by informative GO terms"
   ]
  },
  {
   "cell_type": "code",
   "execution_count": 47,
   "metadata": {},
   "outputs": [],
   "source": [
    "# select MF functions\n",
    "GO_propagated_informative_mf = GO_propagated_informative[GO_propagated_informative['ont'] == 'MF']"
   ]
  },
  {
   "cell_type": "code",
   "execution_count": 55,
   "metadata": {},
   "outputs": [],
   "source": [
    "# convert to a list\n",
    "deepfri_inf_genes= deepfri_informative_cnn_mf.drop_duplicates('id')\n",
    "deepfri_inf_genes = deepfri_inf_genes['id'].tolist()\n",
    "\n",
    "# EggNOG\n",
    "eggnog_inf_genes = GO_propagated_informative_mf.drop_duplicates('Gene ID')\n",
    "eggnog_inf_genes = eggnog_inf_genes['Gene ID'].tolist()\n"
   ]
  },
  {
   "cell_type": "code",
   "execution_count": 56,
   "metadata": {},
   "outputs": [],
   "source": [
    "# genes unique to one method\n",
    "items_only_in_cnn_mf_inf = set(deepfri_inf_genes).difference(set(eggnog_inf_genes))\n",
    "items_only_in_eggNOG_inf = set(eggnog_inf_genes).difference(set(deepfri_inf_genes))\n",
    "\n",
    "# intersection\n",
    "deep_egg_inf_intersect = set(deepfri_inf_genes).intersection(set(eggnog_inf_genes))"
   ]
  },
  {
   "cell_type": "markdown",
   "metadata": {},
   "source": [
    "#### Venn diagram"
   ]
  },
  {
   "cell_type": "code",
   "execution_count": 111,
   "metadata": {},
   "outputs": [
    {
     "data": {
      "image/png": "[encoded data removed]",
      "text/plain": [
       "<Figure size 432x288 with 1 Axes>"
      ]
     },
     "metadata": {},
     "output_type": "display_data"
    }
   ],
   "source": [
    "c = venn2_unweighted(subsets = (len(items_only_in_cnn_mf_inf), len(items_only_in_eggNOG_inf), len(deep_egg_inf_intersect)),\n",
    "          set_labels=('DeepFRI', 'EggNOG Gene Ontology'))\n",
    "c.get_label_by_id('10').set_text('281,383')\n",
    "c.get_label_by_id('11').set_text('84,089')\n",
    "c.get_label_by_id('01').set_text('72,615')\n",
    "plt.savefig('deepfri_eggnog_mf_informative_venn_April2022.png',dpi=200)\n"
   ]
  },
  {
   "cell_type": "markdown",
   "metadata": {},
   "source": [
    "#### 3 way venn diagrams\n",
    "#### Using EggNOG free text description"
   ]
  },
  {
   "cell_type": "code",
   "execution_count": 79,
   "metadata": {},
   "outputs": [],
   "source": [
    "EggNOG_free_text = mapped_genes[['Gene ID', 'eggNOG free text desc.']]\n",
    "EggNOG_free_text = EggNOG_free_text.dropna()"
   ]
  },
  {
   "cell_type": "code",
   "execution_count": 80,
   "metadata": {},
   "outputs": [],
   "source": [
    "# covert to a list\n",
    "# DeepFRI\n",
    "deepfri_mf_genes = cnn_mf.drop_duplicates('id')\n",
    "deepfri_mf_genes = deepfri_mf_genes['id'].tolist()\n",
    "\n",
    "#EggNOG\n",
    "eggnog_all_genes = GO_propagated_df.drop_duplicates('Gene ID')\n",
    "eggnog_all_genes = eggnog_all_genes['Gene ID'].tolist()\n",
    "\n",
    "#EggNOG free text\n",
    "eggnog_text_genes = EggNOG_free_text.drop_duplicates('Gene ID')\n",
    "eggnog_text_genes = eggnog_text_genes['Gene ID'].tolist()"
   ]
  },
  {
   "cell_type": "code",
   "execution_count": 91,
   "metadata": {},
   "outputs": [],
   "source": [
    "eggnog_text_genes_set = set(eggnog_text_genes)\n",
    "deepfri_genes_set = set(deepfri_mf_genes)\n",
    "eggnog_genes_set = set(eggnog_all_genes)\n",
    "eggnog_mf_set = set(eggnog_genes)"
   ]
  },
  {
   "cell_type": "markdown",
   "metadata": {},
   "source": [
    "#### Visualization"
   ]
  },
  {
   "cell_type": "code",
   "execution_count": 113,
   "metadata": {},
   "outputs": [
    {
     "data": {
      "image/png": "[encoded data removed]",
      "text/plain": [
       "<Figure size 432x288 with 1 Axes>"
      ]
     },
     "metadata": {},
     "output_type": "display_data"
    }
   ],
   "source": [
    "plt.rcParams.update({'font.size': 10})\n",
    "d = venn3_unweighted([deepfri_genes_set, eggnog_genes_set, eggnog_text_genes_set],\n",
    "                     ('DeepFRI', 'EggNOG Gene Ontology', 'EggNOG free text description'))\n",
    "d.get_label_by_id('10').set_text('528,378')\n",
    "d.get_label_by_id('011').set_text('1,065')\n",
    "d.get_label_by_id('111').set_text('279,424')\n",
    "d.get_label_by_id('101').set_text('1,087,269')\n",
    "d.get_label_by_id('001').set_text('4,895')\n",
    "plt.savefig('keyword_eggnog_allgo_deepfri_April2022.png',dpi=200)"
   ]
  },
  {
   "cell_type": "markdown",
   "metadata": {},
   "source": [
    "#### EggNOG only MF GO terms"
   ]
  },
  {
   "cell_type": "code",
   "execution_count": 114,
   "metadata": {},
   "outputs": [
    {
     "data": {
      "image/png": "[encoded data removed]",
      "text/plain": [
       "<Figure size 432x288 with 1 Axes>"
      ]
     },
     "metadata": {},
     "output_type": "display_data"
    }
   ],
   "source": [
    "a = venn3_unweighted([deepfri_genes_set, eggnog_mf_set, eggnog_text_genes_set],\n",
    "                     ('DeepFRI', 'EggNOG Gene Ontology', 'EggNOG free text description'))\n",
    "a.get_label_by_id('10').set_text('528,757')\n",
    "a.get_label_by_id('111').set_text('218,913')\n",
    "a.get_label_by_id('101').set_text('1,147,780')\n",
    "a.get_label_by_id('001').set_text('5,329')\n",
    "plt.savefig('keyword_eggnog_mf_deepfri_April2022.png',dpi=200)"
   ]
  },
  {
   "cell_type": "markdown",
   "metadata": {},
   "source": [
    "### Proportion of metagenomic gene abundance with functional annotation"
   ]
  },
  {
   "cell_type": "code",
   "execution_count": 21,
   "metadata": {},
   "outputs": [],
   "source": [
    "eggnog_cpm  = GO_propagated_grouped_samples.reset_index()\n",
    "eggnog_cpm['annotation']='EggNOG Gene Ontology'"
   ]
  },
  {
   "cell_type": "code",
   "execution_count": 12,
   "metadata": {},
   "outputs": [],
   "source": [
    "deepfri_cpm = GO_grouped_samples.reset_index()\n",
    "deepfri_cpm['annotation']='DeepFRI'"
   ]
  },
  {
   "cell_type": "code",
   "execution_count": 22,
   "metadata": {},
   "outputs": [],
   "source": [
    "# compute the proportions for eggnog\n",
    "eggnog_cpm[\"CPM\"] = pd.to_numeric(eggnog_cpm[\"CPM\"], downcast=\"float\")\n",
    "eggnog_cpm[\"perc_CPM\"] = eggnog_cpm[\"CPM\"] *100\n",
    "eggnog_cpm = eggnog_cpm[[\"perc_CPM\", \"annotation\"]]"
   ]
  },
  {
   "cell_type": "code",
   "execution_count": 24,
   "metadata": {},
   "outputs": [],
   "source": [
    "deepfri_cpm[\"DeepFRI_CPM\"] = pd.to_numeric(deepfri_cpm[\"CPM\"], downcast=\"float\")\n",
    "deepfri_cpm[\"perc_CPM\"] = deepfri_cpm[\"CPM\"] *100\n",
    "deepfri_cpm = deepfri_cpm[['perc_CPM', \"annotation\"]]"
   ]
  },
  {
   "cell_type": "code",
   "execution_count": 25,
   "metadata": {},
   "outputs": [],
   "source": [
    "# Concatenate eggnog and deepfri cpms\n",
    "egg_deep_cpm = pd.concat([deepfri_cpm, eggnog_cpm])"
   ]
  },
  {
   "cell_type": "code",
   "execution_count": 29,
   "metadata": {},
   "outputs": [
    {
     "data": {
      "image/png": "[encoded data removed]",
      "text/plain": [
       "<Figure size 432x288 with 1 Axes>"
      ]
     },
     "metadata": {},
     "output_type": "display_data"
    }
   ],
   "source": [
    "# violin plot\n",
    "plt.rcParams.update({'font.size': 19})\n",
    "sns.set(style=\"darkgrid\")\n",
    "my_pal = {\"EggNOG Gene Ontology\": \"sienna\", \"DeepFRI\": \"steelblue\"}\n",
    "sns.violinplot(x='annotation', y='perc_CPM', data=egg_deep_cpm,linewidth=2,palette=my_pal)\n",
    "plt.xlabel(\"Method\")\n",
    "plt.ylabel(\"Annotation coverage\")\n",
    "plt.savefig('annotation_cov_may2022.png',dpi=300)"
   ]
  },
  {
   "cell_type": "code",
   "execution_count": null,
   "metadata": {},
   "outputs": [],
   "source": []
  },
  {
   "cell_type": "code",
   "execution_count": null,
   "metadata": {},
   "outputs": [],
   "source": []
  },
  {
   "cell_type": "code",
   "execution_count": null,
   "metadata": {},
   "outputs": [],
   "source": []
  },
  {
   "cell_type": "code",
   "execution_count": null,
   "metadata": {},
   "outputs": [],
   "source": []
  },
  {
   "cell_type": "code",
   "execution_count": null,
   "metadata": {},
   "outputs": [],
   "source": []
  },
  {
   "cell_type": "code",
   "execution_count": null,
   "metadata": {},
   "outputs": [],
   "source": []
  },
  {
   "cell_type": "code",
   "execution_count": null,
   "metadata": {},
   "outputs": [],
   "source": []
  }
 ],
 "metadata": {
  "kernelspec": {
   "display_name": "Python 3",
   "language": "python",
   "name": "python3"
  },
  "language_info": {
   "codemirror_mode": {
    "name": "ipython",
    "version": 3
   },
   "file_extension": ".py",
   "mimetype": "text/x-python",
   "name": "python",
   "nbconvert_exporter": "python",
   "pygments_lexer": "ipython3",
   "version": "3.7.4"
  }
 },
 "nbformat": 4,
 "nbformat_minor": 5
}
